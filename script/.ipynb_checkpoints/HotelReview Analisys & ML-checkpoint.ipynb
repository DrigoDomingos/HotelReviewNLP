{
 "cells": [
  {
   "cell_type": "code",
   "execution_count": 46,
   "metadata": {
    "collapsed": false
   },
   "outputs": [
    {
     "ename": "ImportError",
     "evalue": "No module named qgrid",
     "output_type": "error",
     "traceback": [
      "\u001b[0;31m---------------------------------------------------------------------------\u001b[0m",
      "\u001b[0;31mImportError\u001b[0m                               Traceback (most recent call last)",
      "\u001b[0;32m<ipython-input-46-8782c8aa9ee7>\u001b[0m in \u001b[0;36m<module>\u001b[0;34m()\u001b[0m\n\u001b[1;32m      1\u001b[0m \u001b[1;32mimport\u001b[0m \u001b[0mpandas\u001b[0m \u001b[1;32mas\u001b[0m \u001b[0mpd\u001b[0m\u001b[1;33m\u001b[0m\u001b[0m\n\u001b[1;32m      2\u001b[0m \u001b[1;32mfrom\u001b[0m \u001b[0mtextblob\u001b[0m \u001b[1;32mimport\u001b[0m \u001b[0mTextBlob\u001b[0m\u001b[1;33m\u001b[0m\u001b[0m\n\u001b[0;32m----> 3\u001b[0;31m \u001b[1;32mimport\u001b[0m \u001b[0mqgrid\u001b[0m\u001b[1;33m\u001b[0m\u001b[0m\n\u001b[0m",
      "\u001b[0;31mImportError\u001b[0m: No module named qgrid"
     ]
    }
   ],
   "source": [
    "import pandas as pd\n",
    "from textblob import TextBlob\n",
    "import qgrid\n"
   ]
  },
  {
   "cell_type": "code",
   "execution_count": 2,
   "metadata": {
    "collapsed": false
   },
   "outputs": [],
   "source": [
    "df = pd.read_csv(\"../data/7282_1.csv\")   "
   ]
  },
  {
   "cell_type": "code",
   "execution_count": 3,
   "metadata": {
    "collapsed": false
   },
   "outputs": [
    {
     "data": {
      "text/plain": [
       "address                  object\n",
       "categories               object\n",
       "city                     object\n",
       "country                  object\n",
       "latitude                float64\n",
       "longitude               float64\n",
       "name                     object\n",
       "postalCode               object\n",
       "province                 object\n",
       "reviews.date             object\n",
       "reviews.dateAdded        object\n",
       "reviews.doRecommend     float64\n",
       "reviews.id              float64\n",
       "reviews.rating          float64\n",
       "reviews.text             object\n",
       "reviews.title            object\n",
       "reviews.userCity         object\n",
       "reviews.username         object\n",
       "reviews.userProvince     object\n",
       "dtype: object"
      ]
     },
     "execution_count": 3,
     "metadata": {},
     "output_type": "execute_result"
    }
   ],
   "source": [
    "df.dtypes"
   ]
  },
  {
   "cell_type": "code",
   "execution_count": 4,
   "metadata": {
    "collapsed": false
   },
   "outputs": [
    {
     "data": {
      "text/plain": [
       "<matplotlib.axes._subplots.AxesSubplot at 0x11e78f60>"
      ]
     },
     "execution_count": 4,
     "metadata": {},
     "output_type": "execute_result"
    }
   ],
   "source": [
    "df['reviews.rating'].plot(kind='hist', bins=10)\n"
   ]
  },
  {
   "cell_type": "code",
   "execution_count": 5,
   "metadata": {
    "collapsed": false
   },
   "outputs": [],
   "source": [
    "Review_freq = df['name'].value_counts()\n"
   ]
  },
  {
   "cell_type": "code",
   "execution_count": 6,
   "metadata": {
    "collapsed": false
   },
   "outputs": [
    {
     "data": {
      "text/plain": [
       "The Alexandrian, Autograph Collection                       1185\n",
       "Howard Johnson Inn - Newburgh                                714\n",
       "Americas Best Value Inn                                      567\n",
       "Fiesta Inn and Suites                                        546\n",
       "Ip Casino Resort Spa                                         392\n",
       "Best Western Plus Waterville Grand Hotel                     335\n",
       "Hampton Inn Virginia Beach Oceanfront North                  334\n",
       "Comfort Suites                                               326\n",
       "New York Marriott Marquis                                    320\n",
       "Best Western of Long Beach                                   317\n",
       "Plaza Hotel and Casino - Las Vegas                           289\n",
       "Doubletree By Hilton West Palm Beach Airport                 276\n",
       "Anaheim Marriott Suites                                      275\n",
       "Jacksonville Plaza Hotel and Suites                          264\n",
       "Red Roof Inn Erie                                            243\n",
       "Hotel Deca - A Noble House Hotel                             237\n",
       "Holiday Inn Express Hotel and Suites Va Beach Oceanfront     229\n",
       "Doubletree By Hilton Hotel Bay City - Riverfront             227\n",
       "Best Western Plus French Quarter Landmark Hotel              215\n",
       "Comfort Inn                                                  202\n",
       "Mountain Lodge At Telluride - A Noble House Resort           201\n",
       "Drury Inn and Suites Columbus Convention Center              200\n",
       "Hotel Valencia Santana Row                                   197\n",
       "Quality Inn and Suites                                       184\n",
       "Hampton Inn Tucson-airport                                   184\n",
       "Holiday Inn Express Hotel and Suites Cambridge               182\n",
       "Tidewater Inn                                                180\n",
       "Garden of The Gods Club & Resort                             172\n",
       "Hampton Inn and Suites Annapolis                             171\n",
       "Hampton Inn Sarasota - I-75 Bee Ridge                        167\n",
       "                                                            ... \n",
       "H��tel Marinca and Spa                                         8\n",
       "Deluxe Inn Merrillville                                        7\n",
       "Wisconsin-aire Motel                                           7\n",
       "Intown Suites El Paso                                          7\n",
       "Seiling Motel                                                  7\n",
       "Uptown Motel                                                   7\n",
       "Forest Hill Inn                                                7\n",
       "Longville Inn                                                  7\n",
       "Holiday Inn Express                                            7\n",
       "Milliken Creek Inn                                             7\n",
       "Monarch of Rancho Mirag                                        7\n",
       "Best Western                                                   7\n",
       "Days Inn Geneva                                                6\n",
       "Sci�� On Martin                                                6\n",
       "Fairfield Inn & Suites Des Moines Airport                      6\n",
       "Skidway Lake Motel                                             6\n",
       "Sybaris Pool Suites                                            6\n",
       "Super 8 Opelousas                                              6\n",
       "Mission Sands Vacation Rentals                                 6\n",
       "Ambassador Inn Albuquerque                                     5\n",
       "Manor Vail Lodge                                               5\n",
       "Days Inn Barstow                                               5\n",
       "Marriott Hotels Resorts Suites                                 5\n",
       "Springhill Suites By Marriott South Bend/mishawaka             5\n",
       "Sterling Motel                                                 5\n",
       "Comfort Suites South                                           5\n",
       "Microtel of Ste Genevieve                                      5\n",
       "Beach Haven Vacation Rental House                              5\n",
       "Pizza Hut                                                      5\n",
       "Sutton Bay Resort                                              5\n",
       "Name: name, dtype: int64"
      ]
     },
     "execution_count": 6,
     "metadata": {},
     "output_type": "execute_result"
    }
   ],
   "source": [
    "Review_freq[Review_freq >= 5]"
   ]
  },
  {
   "cell_type": "code",
   "execution_count": 17,
   "metadata": {
    "collapsed": false
   },
   "outputs": [],
   "source": [
    "df = df[df['name'].isin(Review_freq[Review_freq >= 10].index)]"
   ]
  },
  {
   "cell_type": "code",
   "execution_count": 44,
   "metadata": {
    "collapsed": false
   },
   "outputs": [
    {
     "ename": "NameError",
     "evalue": "name 'qgrid' is not defined",
     "output_type": "error",
     "traceback": [
      "\u001b[0;31m---------------------------------------------------------------------------\u001b[0m",
      "\u001b[0;31mNameError\u001b[0m                                 Traceback (most recent call last)",
      "\u001b[0;32m<ipython-input-44-95b6c9ae21ff>\u001b[0m in \u001b[0;36m<module>\u001b[0;34m()\u001b[0m\n\u001b[0;32m----> 1\u001b[0;31m \u001b[0mqgrid_wg\u001b[0m \u001b[1;33m=\u001b[0m \u001b[0mqgrid\u001b[0m\u001b[1;33m.\u001b[0m\u001b[0mshow_grid\u001b[0m\u001b[1;33m(\u001b[0m\u001b[0mdf\u001b[0m\u001b[1;33m,\u001b[0m\u001b[0mshow_toolbar\u001b[0m\u001b[1;33m=\u001b[0m\u001b[0mTrue\u001b[0m\u001b[1;33m)\u001b[0m\u001b[1;33m\u001b[0m\u001b[0m\n\u001b[0m\u001b[1;32m      2\u001b[0m \u001b[0mqgrid_wg\u001b[0m\u001b[1;33m\u001b[0m\u001b[0m\n",
      "\u001b[0;31mNameError\u001b[0m: name 'qgrid' is not defined"
     ]
    }
   ],
   "source": [
    "qgrid_wg = qgrid.show_grid(df,show_toolbar=True)\n",
    "qgrid_wg"
   ]
  },
  {
   "cell_type": "code",
   "execution_count": 43,
   "metadata": {
    "collapsed": false
   },
   "outputs": [],
   "source": [
    "bad_verbs = ['fix','clean','enhance','change','improve','remove']\n",
    "good_verbs = ['recommend','like','love']\n",
    "\n",
    "\n",
    "def SentimenAnalysis(text):\n",
    "# Function that receive the text and return:\n",
    "# sentimento polarity\n",
    "# sentimento subjectivity\n",
    "# Key Verbs presence\n",
    "    \n",
    "    \n",
    "    try:        \n",
    "        blob = TextBlob(text)\n",
    "        sentiment = blob.sentiment\n",
    "    except:        \n",
    "        sentiment = \"not able to classify\"\n",
    "    return \"1\",\"2\",\"3\"\n",
    "    "
   ]
  },
  {
   "cell_type": "code",
   "execution_count": 42,
   "metadata": {
    "collapsed": false
   },
   "outputs": [
    {
     "name": "stdout",
     "output_type": "stream",
     "text": [
      "0        (1, 2, 3)\n",
      "1        (1, 2, 3)\n",
      "2        (1, 2, 3)\n",
      "3        (1, 2, 3)\n",
      "4        (1, 2, 3)\n",
      "5        (1, 2, 3)\n",
      "6        (1, 2, 3)\n",
      "7        (1, 2, 3)\n",
      "8        (1, 2, 3)\n",
      "9        (1, 2, 3)\n",
      "10       (1, 2, 3)\n",
      "11       (1, 2, 3)\n",
      "12       (1, 2, 3)\n",
      "13       (1, 2, 3)\n",
      "14       (1, 2, 3)\n",
      "15       (1, 2, 3)\n",
      "16       (1, 2, 3)\n",
      "17       (1, 2, 3)\n",
      "18       (1, 2, 3)\n",
      "19       (1, 2, 3)\n",
      "20       (1, 2, 3)\n",
      "21       (1, 2, 3)\n",
      "22       (1, 2, 3)\n",
      "23       (1, 2, 3)\n",
      "24       (1, 2, 3)\n",
      "25       (1, 2, 3)\n",
      "26       (1, 2, 3)\n",
      "27       (1, 2, 3)\n",
      "28       (1, 2, 3)\n",
      "29       (1, 2, 3)\n",
      "           ...    \n",
      "35880    (1, 2, 3)\n",
      "35881    (1, 2, 3)\n",
      "35882    (1, 2, 3)\n",
      "35883    (1, 2, 3)\n",
      "35884    (1, 2, 3)\n",
      "35885    (1, 2, 3)\n",
      "35886    (1, 2, 3)\n",
      "35887    (1, 2, 3)\n",
      "35888    (1, 2, 3)\n",
      "35889    (1, 2, 3)\n",
      "35890    (1, 2, 3)\n",
      "35891    (1, 2, 3)\n",
      "35892    (1, 2, 3)\n",
      "35893    (1, 2, 3)\n",
      "35894    (1, 2, 3)\n",
      "35895    (1, 2, 3)\n",
      "35896    (1, 2, 3)\n",
      "35897    (1, 2, 3)\n",
      "35898    (1, 2, 3)\n",
      "35899    (1, 2, 3)\n",
      "35900    (1, 2, 3)\n",
      "35901    (1, 2, 3)\n",
      "35902    (1, 2, 3)\n",
      "35903    (1, 2, 3)\n",
      "35904    (1, 2, 3)\n",
      "35905    (1, 2, 3)\n",
      "35906    (1, 2, 3)\n",
      "35907    (1, 2, 3)\n",
      "35908    (1, 2, 3)\n",
      "35909    (1, 2, 3)\n",
      "Name: reviews.title, dtype: object\n"
     ]
    }
   ],
   "source": [
    "#blob = TextBlob(df['reviews.title'][0])\n",
    "\n",
    "df['reviews.title'].apply(lambda x: SentimenAnalysis(x))"
   ]
  },
  {
   "cell_type": "code",
   "execution_count": 21,
   "metadata": {
    "collapsed": false
   },
   "outputs": [
    {
     "name": "stdout",
     "output_type": "stream",
     "text": [
      "Good\n",
      "location\n",
      "away\n",
      "from\n",
      "the\n",
      "crouds\n"
     ]
    }
   ],
   "source": [
    "for words in blob.sentences[0].words:\n",
    "    print(words)"
   ]
  },
  {
   "cell_type": "code",
   "execution_count": 10,
   "metadata": {
    "collapsed": false
   },
   "outputs": [
    {
     "name": "stdout",
     "output_type": "stream",
     "text": [
      "good location\n"
     ]
    }
   ],
   "source": [
    "for np in blob.noun_phrases:\n",
    "    print(np)"
   ]
  },
  {
   "cell_type": "code",
   "execution_count": 11,
   "metadata": {
    "collapsed": false
   },
   "outputs": [
    {
     "name": "stdout",
     "output_type": "stream",
     "text": [
      "('Good', u'JJ')\n",
      "('location', u'NN')\n",
      "('away', u'RB')\n",
      "('from', u'IN')\n",
      "('the', u'DT')\n",
      "('crouds', u'NN')\n"
     ]
    }
   ],
   "source": [
    "for words, tag in blob.tags:\n",
    "    print(words,tag)"
   ]
  },
  {
   "cell_type": "code",
   "execution_count": 12,
   "metadata": {
    "collapsed": false
   },
   "outputs": [
    {
     "data": {
      "text/plain": [
       "WordList(['Good', 'location', 'away', 'from', 'the', 'croud'])"
      ]
     },
     "execution_count": 12,
     "metadata": {},
     "output_type": "execute_result"
    }
   ],
   "source": [
    "blob.sentences[0].words.singularize()"
   ]
  },
  {
   "cell_type": "code",
   "execution_count": 13,
   "metadata": {
    "collapsed": false
   },
   "outputs": [
    {
     "data": {
      "text/plain": [
       "Sentiment(polarity=0.7, subjectivity=0.6000000000000001)"
      ]
     },
     "execution_count": 13,
     "metadata": {},
     "output_type": "execute_result"
    }
   ],
   "source": [
    "blob.sentiment"
   ]
  },
  {
   "cell_type": "code",
   "execution_count": 14,
   "metadata": {
    "collapsed": false
   },
   "outputs": [
    {
     "data": {
      "text/plain": [
       "TextBlob(\"Good location away from the clouds\")"
      ]
     },
     "execution_count": 14,
     "metadata": {},
     "output_type": "execute_result"
    }
   ],
   "source": [
    "blob.correct()"
   ]
  },
  {
   "cell_type": "code",
   "execution_count": 15,
   "metadata": {
    "collapsed": false
   },
   "outputs": [
    {
     "ename": "NotTranslated",
     "evalue": "Translation API returned the input string unchanged.",
     "output_type": "error",
     "traceback": [
      "\u001b[0;31m---------------------------------------------------------------------------\u001b[0m",
      "\u001b[0;31mNotTranslated\u001b[0m                             Traceback (most recent call last)",
      "\u001b[0;32m<ipython-input-15-8eb3c8e9f1dc>\u001b[0m in \u001b[0;36m<module>\u001b[0;34m()\u001b[0m\n\u001b[0;32m----> 1\u001b[0;31m \u001b[0mblob\u001b[0m\u001b[1;33m.\u001b[0m\u001b[0mtranslate\u001b[0m\u001b[1;33m(\u001b[0m\u001b[0mto\u001b[0m\u001b[1;33m=\u001b[0m\u001b[1;34m'en'\u001b[0m\u001b[1;33m)\u001b[0m\u001b[1;33m\u001b[0m\u001b[0m\n\u001b[0m",
      "\u001b[0;32mC:\\Users\\Rodrigo\\Anaconda2\\lib\\site-packages\\textblob\\blob.pyc\u001b[0m in \u001b[0;36mtranslate\u001b[0;34m(self, from_lang, to)\u001b[0m\n\u001b[1;32m    539\u001b[0m         \"\"\"\n\u001b[1;32m    540\u001b[0m         return self.__class__(self.translator.translate(self.raw,\n\u001b[0;32m--> 541\u001b[0;31m                               from_lang=from_lang, to_lang=to))\n\u001b[0m\u001b[1;32m    542\u001b[0m \u001b[1;33m\u001b[0m\u001b[0m\n\u001b[1;32m    543\u001b[0m     \u001b[1;32mdef\u001b[0m \u001b[0mdetect_language\u001b[0m\u001b[1;33m(\u001b[0m\u001b[0mself\u001b[0m\u001b[1;33m)\u001b[0m\u001b[1;33m:\u001b[0m\u001b[1;33m\u001b[0m\u001b[0m\n",
      "\u001b[0;32mC:\\Users\\Rodrigo\\Anaconda2\\lib\\site-packages\\textblob\\translate.pyc\u001b[0m in \u001b[0;36mtranslate\u001b[0;34m(self, source, from_lang, to_lang, host, type_)\u001b[0m\n\u001b[1;32m     59\u001b[0m             \u001b[1;32mexcept\u001b[0m \u001b[0mIndexError\u001b[0m\u001b[1;33m:\u001b[0m\u001b[1;33m\u001b[0m\u001b[0m\n\u001b[1;32m     60\u001b[0m                 \u001b[1;32mpass\u001b[0m\u001b[1;33m\u001b[0m\u001b[0m\n\u001b[0;32m---> 61\u001b[0;31m         \u001b[0mself\u001b[0m\u001b[1;33m.\u001b[0m\u001b[0m_validate_translation\u001b[0m\u001b[1;33m(\u001b[0m\u001b[0msource\u001b[0m\u001b[1;33m,\u001b[0m \u001b[0mresult\u001b[0m\u001b[1;33m)\u001b[0m\u001b[1;33m\u001b[0m\u001b[0m\n\u001b[0m\u001b[1;32m     62\u001b[0m         \u001b[1;32mreturn\u001b[0m \u001b[0mresult\u001b[0m\u001b[1;33m\u001b[0m\u001b[0m\n\u001b[1;32m     63\u001b[0m \u001b[1;33m\u001b[0m\u001b[0m\n",
      "\u001b[0;32mC:\\Users\\Rodrigo\\Anaconda2\\lib\\site-packages\\textblob\\translate.pyc\u001b[0m in \u001b[0;36m_validate_translation\u001b[0;34m(self, source, result)\u001b[0m\n\u001b[1;32m     83\u001b[0m             \u001b[0mresult\u001b[0m \u001b[1;33m=\u001b[0m \u001b[0mresult\u001b[0m\u001b[1;33m.\u001b[0m\u001b[0mencode\u001b[0m\u001b[1;33m(\u001b[0m\u001b[1;34m'utf-8'\u001b[0m\u001b[1;33m)\u001b[0m\u001b[1;33m\u001b[0m\u001b[0m\n\u001b[1;32m     84\u001b[0m         \u001b[1;32mif\u001b[0m \u001b[0mresult\u001b[0m\u001b[1;33m.\u001b[0m\u001b[0mstrip\u001b[0m\u001b[1;33m(\u001b[0m\u001b[1;33m)\u001b[0m \u001b[1;33m==\u001b[0m \u001b[0msource\u001b[0m\u001b[1;33m.\u001b[0m\u001b[0mstrip\u001b[0m\u001b[1;33m(\u001b[0m\u001b[1;33m)\u001b[0m\u001b[1;33m:\u001b[0m\u001b[1;33m\u001b[0m\u001b[0m\n\u001b[0;32m---> 85\u001b[0;31m             \u001b[1;32mraise\u001b[0m \u001b[0mNotTranslated\u001b[0m\u001b[1;33m(\u001b[0m\u001b[1;34m'Translation API returned the input string unchanged.'\u001b[0m\u001b[1;33m)\u001b[0m\u001b[1;33m\u001b[0m\u001b[0m\n\u001b[0m\u001b[1;32m     86\u001b[0m \u001b[1;33m\u001b[0m\u001b[0m\n\u001b[1;32m     87\u001b[0m     \u001b[1;32mdef\u001b[0m \u001b[0m_request\u001b[0m\u001b[1;33m(\u001b[0m\u001b[0mself\u001b[0m\u001b[1;33m,\u001b[0m \u001b[0murl\u001b[0m\u001b[1;33m,\u001b[0m \u001b[0mhost\u001b[0m\u001b[1;33m=\u001b[0m\u001b[0mNone\u001b[0m\u001b[1;33m,\u001b[0m \u001b[0mtype_\u001b[0m\u001b[1;33m=\u001b[0m\u001b[0mNone\u001b[0m\u001b[1;33m,\u001b[0m \u001b[0mdata\u001b[0m\u001b[1;33m=\u001b[0m\u001b[0mNone\u001b[0m\u001b[1;33m)\u001b[0m\u001b[1;33m:\u001b[0m\u001b[1;33m\u001b[0m\u001b[0m\n",
      "\u001b[0;31mNotTranslated\u001b[0m: Translation API returned the input string unchanged."
     ]
    }
   ],
   "source": [
    "blob.translate(to='en')"
   ]
  },
  {
   "cell_type": "code",
   "execution_count": null,
   "metadata": {
    "collapsed": true
   },
   "outputs": [],
   "source": []
  }
 ],
 "metadata": {
  "kernelspec": {
   "display_name": "Python 2",
   "language": "python",
   "name": "python2"
  },
  "language_info": {
   "codemirror_mode": {
    "name": "ipython",
    "version": 2
   },
   "file_extension": ".py",
   "mimetype": "text/x-python",
   "name": "python",
   "nbconvert_exporter": "python",
   "pygments_lexer": "ipython2",
   "version": "2.7.13"
  }
 },
 "nbformat": 4,
 "nbformat_minor": 2
}
