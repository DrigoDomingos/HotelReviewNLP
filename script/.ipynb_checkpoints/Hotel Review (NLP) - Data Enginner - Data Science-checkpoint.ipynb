{
 "cells": [
  {
   "cell_type": "code",
   "execution_count": 1,
   "metadata": {
    "collapsed": false
   },
   "outputs": [],
   "source": [
    "import pandas as pd\n",
    "import numpy as np\n",
    "from textblob import TextBlob\n",
    "#import logging"
   ]
  },
  {
   "cell_type": "code",
   "execution_count": 2,
   "metadata": {
    "collapsed": false
   },
   "outputs": [],
   "source": [
    "#logging.basicConfig(filename='run.log', level=logging.DEBUG)\n",
    "#logging.basicConfig(format='%(asctime)s %(message)s')\n",
    "#logging.info('Starting')"
   ]
  },
  {
   "cell_type": "code",
   "execution_count": 3,
   "metadata": {
    "collapsed": false
   },
   "outputs": [],
   "source": [
    "df = pd.read_csv(\"../data/7282_1.csv\")   "
   ]
  },
  {
   "cell_type": "code",
   "execution_count": 4,
   "metadata": {
    "collapsed": false
   },
   "outputs": [
    {
     "data": {
      "text/plain": [
       "address                  object\n",
       "categories               object\n",
       "city                     object\n",
       "country                  object\n",
       "latitude                float64\n",
       "longitude               float64\n",
       "name                     object\n",
       "postalCode               object\n",
       "province                 object\n",
       "reviews.date             object\n",
       "reviews.dateAdded        object\n",
       "reviews.doRecommend     float64\n",
       "reviews.id              float64\n",
       "reviews.rating          float64\n",
       "reviews.text             object\n",
       "reviews.title            object\n",
       "reviews.userCity         object\n",
       "reviews.username         object\n",
       "reviews.userProvince     object\n",
       "dtype: object"
      ]
     },
     "execution_count": 4,
     "metadata": {},
     "output_type": "execute_result"
    }
   ],
   "source": [
    "df.dtypes"
   ]
  },
  {
   "cell_type": "code",
   "execution_count": 5,
   "metadata": {
    "collapsed": false
   },
   "outputs": [
    {
     "data": {
      "text/html": [
       "<div>\n",
       "<style scoped>\n",
       "    .dataframe tbody tr th:only-of-type {\n",
       "        vertical-align: middle;\n",
       "    }\n",
       "\n",
       "    .dataframe tbody tr th {\n",
       "        vertical-align: top;\n",
       "    }\n",
       "\n",
       "    .dataframe thead th {\n",
       "        text-align: right;\n",
       "    }\n",
       "</style>\n",
       "<table border=\"1\" class=\"dataframe\">\n",
       "  <thead>\n",
       "    <tr style=\"text-align: right;\">\n",
       "      <th></th>\n",
       "      <th>latitude</th>\n",
       "      <th>longitude</th>\n",
       "      <th>reviews.doRecommend</th>\n",
       "      <th>reviews.id</th>\n",
       "      <th>reviews.rating</th>\n",
       "    </tr>\n",
       "  </thead>\n",
       "  <tbody>\n",
       "    <tr>\n",
       "      <th>count</th>\n",
       "      <td>35826.000000</td>\n",
       "      <td>35826.000000</td>\n",
       "      <td>0.0</td>\n",
       "      <td>0.0</td>\n",
       "      <td>35050.000000</td>\n",
       "    </tr>\n",
       "    <tr>\n",
       "      <th>mean</th>\n",
       "      <td>37.285008</td>\n",
       "      <td>-85.725758</td>\n",
       "      <td>NaN</td>\n",
       "      <td>NaN</td>\n",
       "      <td>3.776431</td>\n",
       "    </tr>\n",
       "    <tr>\n",
       "      <th>std</th>\n",
       "      <td>6.996544</td>\n",
       "      <td>33.062263</td>\n",
       "      <td>NaN</td>\n",
       "      <td>NaN</td>\n",
       "      <td>1.416195</td>\n",
       "    </tr>\n",
       "    <tr>\n",
       "      <th>min</th>\n",
       "      <td>-25.436750</td>\n",
       "      <td>-166.559040</td>\n",
       "      <td>NaN</td>\n",
       "      <td>NaN</td>\n",
       "      <td>0.000000</td>\n",
       "    </tr>\n",
       "    <tr>\n",
       "      <th>25%</th>\n",
       "      <td>33.827340</td>\n",
       "      <td>-104.868200</td>\n",
       "      <td>NaN</td>\n",
       "      <td>NaN</td>\n",
       "      <td>3.000000</td>\n",
       "    </tr>\n",
       "    <tr>\n",
       "      <th>50%</th>\n",
       "      <td>37.936026</td>\n",
       "      <td>-86.822972</td>\n",
       "      <td>NaN</td>\n",
       "      <td>NaN</td>\n",
       "      <td>4.000000</td>\n",
       "    </tr>\n",
       "    <tr>\n",
       "      <th>75%</th>\n",
       "      <td>41.672491</td>\n",
       "      <td>-77.044550</td>\n",
       "      <td>NaN</td>\n",
       "      <td>NaN</td>\n",
       "      <td>5.000000</td>\n",
       "    </tr>\n",
       "    <tr>\n",
       "      <th>max</th>\n",
       "      <td>63.877674</td>\n",
       "      <td>115.164407</td>\n",
       "      <td>NaN</td>\n",
       "      <td>NaN</td>\n",
       "      <td>10.000000</td>\n",
       "    </tr>\n",
       "  </tbody>\n",
       "</table>\n",
       "</div>"
      ],
      "text/plain": [
       "           latitude     longitude  reviews.doRecommend  reviews.id  \\\n",
       "count  35826.000000  35826.000000                  0.0         0.0   \n",
       "mean      37.285008    -85.725758                  NaN         NaN   \n",
       "std        6.996544     33.062263                  NaN         NaN   \n",
       "min      -25.436750   -166.559040                  NaN         NaN   \n",
       "25%       33.827340   -104.868200                  NaN         NaN   \n",
       "50%       37.936026    -86.822972                  NaN         NaN   \n",
       "75%       41.672491    -77.044550                  NaN         NaN   \n",
       "max       63.877674    115.164407                  NaN         NaN   \n",
       "\n",
       "       reviews.rating  \n",
       "count    35050.000000  \n",
       "mean         3.776431  \n",
       "std          1.416195  \n",
       "min          0.000000  \n",
       "25%          3.000000  \n",
       "50%          4.000000  \n",
       "75%          5.000000  \n",
       "max         10.000000  "
      ]
     },
     "execution_count": 5,
     "metadata": {},
     "output_type": "execute_result"
    }
   ],
   "source": [
    "df.describe()"
   ]
  },
  {
   "cell_type": "code",
   "execution_count": 6,
   "metadata": {
    "collapsed": false
   },
   "outputs": [
    {
     "data": {
      "text/plain": [
       "<matplotlib.axes._subplots.AxesSubplot at 0x1d1f7584c18>"
      ]
     },
     "execution_count": 6,
     "metadata": {},
     "output_type": "execute_result"
    }
   ],
   "source": [
    "df['reviews.rating'].plot(kind='hist', bins=10)"
   ]
  },
  {
   "cell_type": "code",
   "execution_count": 7,
   "metadata": {
    "collapsed": false
   },
   "outputs": [],
   "source": [
    "Review_freq = df['name'].value_counts()"
   ]
  },
  {
   "cell_type": "code",
   "execution_count": 8,
   "metadata": {
    "collapsed": false
   },
   "outputs": [
    {
     "data": {
      "text/plain": [
       "The Alexandrian, Autograph Collection                       1185\n",
       "Howard Johnson Inn - Newburgh                                714\n",
       "Americas Best Value Inn                                      567\n",
       "Fiesta Inn and Suites                                        546\n",
       "Ip Casino Resort Spa                                         392\n",
       "Best Western Plus Waterville Grand Hotel                     335\n",
       "Hampton Inn Virginia Beach Oceanfront North                  334\n",
       "Comfort Suites                                               326\n",
       "New York Marriott Marquis                                    320\n",
       "Best Western of Long Beach                                   317\n",
       "Plaza Hotel and Casino - Las Vegas                           289\n",
       "Doubletree By Hilton West Palm Beach Airport                 276\n",
       "Anaheim Marriott Suites                                      275\n",
       "Jacksonville Plaza Hotel and Suites                          264\n",
       "Red Roof Inn Erie                                            243\n",
       "Hotel Deca - A Noble House Hotel                             237\n",
       "Holiday Inn Express Hotel and Suites Va Beach Oceanfront     229\n",
       "Doubletree By Hilton Hotel Bay City - Riverfront             227\n",
       "Best Western Plus French Quarter Landmark Hotel              215\n",
       "Comfort Inn                                                  202\n",
       "Mountain Lodge At Telluride - A Noble House Resort           201\n",
       "Drury Inn and Suites Columbus Convention Center              200\n",
       "Hotel Valencia Santana Row                                   197\n",
       "Quality Inn and Suites                                       184\n",
       "Hampton Inn Tucson-airport                                   184\n",
       "Holiday Inn Express Hotel and Suites Cambridge               182\n",
       "Tidewater Inn                                                180\n",
       "Garden of The Gods Club & Resort                             172\n",
       "Hampton Inn and Suites Annapolis                             171\n",
       "Hampton Inn Sarasota - I-75 Bee Ridge                        167\n",
       "                                                            ... \n",
       "H��tel Marinca and Spa                                         8\n",
       "Holiday Inn Express                                            7\n",
       "Intown Suites El Paso                                          7\n",
       "Forest Hill Inn                                                7\n",
       "Milliken Creek Inn                                             7\n",
       "Seiling Motel                                                  7\n",
       "Uptown Motel                                                   7\n",
       "Deluxe Inn Merrillville                                        7\n",
       "Longville Inn                                                  7\n",
       "Monarch of Rancho Mirag                                        7\n",
       "Best Western                                                   7\n",
       "Wisconsin-aire Motel                                           7\n",
       "Skidway Lake Motel                                             6\n",
       "Fairfield Inn & Suites Des Moines Airport                      6\n",
       "Sci�� On Martin                                                6\n",
       "Sybaris Pool Suites                                            6\n",
       "Mission Sands Vacation Rentals                                 6\n",
       "Super 8 Opelousas                                              6\n",
       "Days Inn Geneva                                                6\n",
       "Microtel of Ste Genevieve                                      5\n",
       "Ambassador Inn Albuquerque                                     5\n",
       "Comfort Suites South                                           5\n",
       "Marriott Hotels Resorts Suites                                 5\n",
       "Beach Haven Vacation Rental House                              5\n",
       "Springhill Suites By Marriott South Bend/mishawaka             5\n",
       "Days Inn Barstow                                               5\n",
       "Sutton Bay Resort                                              5\n",
       "Sterling Motel                                                 5\n",
       "Manor Vail Lodge                                               5\n",
       "Pizza Hut                                                      5\n",
       "Name: name, Length: 563, dtype: int64"
      ]
     },
     "execution_count": 8,
     "metadata": {},
     "output_type": "execute_result"
    }
   ],
   "source": [
    "Review_freq[Review_freq >= 5]"
   ]
  },
  {
   "cell_type": "code",
   "execution_count": 9,
   "metadata": {
    "collapsed": false
   },
   "outputs": [],
   "source": [
    "df = df[df['name'].isin(Review_freq[Review_freq >= 10].index)]"
   ]
  },
  {
   "cell_type": "code",
   "execution_count": 10,
   "metadata": {
    "collapsed": false
   },
   "outputs": [],
   "source": [
    "#df['reviews.rating'].fillna(2.5)"
   ]
  },
  {
   "cell_type": "code",
   "execution_count": 11,
   "metadata": {
    "collapsed": true
   },
   "outputs": [],
   "source": [
    "df = df[df['reviews.rating'] <= 5]"
   ]
  },
  {
   "cell_type": "code",
   "execution_count": 12,
   "metadata": {
    "collapsed": false
   },
   "outputs": [],
   "source": [
    "df = df[df['reviews.text'].isna() == False]\n",
    "#df['reviews.text'].isna() == True\n"
   ]
  },
  {
   "cell_type": "code",
   "execution_count": 13,
   "metadata": {
    "collapsed": false
   },
   "outputs": [],
   "source": [
    "df = df.head(100)"
   ]
  },
  {
   "cell_type": "code",
   "execution_count": 14,
   "metadata": {
    "collapsed": false
   },
   "outputs": [
    {
     "data": {
      "text/plain": [
       "<matplotlib.axes._subplots.AxesSubplot at 0x1d1f76362b0>"
      ]
     },
     "execution_count": 14,
     "metadata": {},
     "output_type": "execute_result"
    },
    {
     "data": {
      "image/png": "[encoded data removed]",
      "text/plain": [
       "<matplotlib.figure.Figure at 0x1d1f7642ac8>"
      ]
     },
     "metadata": {},
     "output_type": "display_data"
    }
   ],
   "source": [
    "df['reviews.rating'].plot(kind='hist', bins=10)"
   ]
  },
  {
   "cell_type": "code",
   "execution_count": 15,
   "metadata": {
    "collapsed": false
   },
   "outputs": [],
   "source": [
    "#df = df.head(25) # Sample of data to developement"
   ]
  },
  {
   "cell_type": "code",
   "execution_count": 16,
   "metadata": {
    "collapsed": false
   },
   "outputs": [],
   "source": [
    "def SentimenAnalysis(text):\n",
    "# Function that receive the text and return:\n",
    "# sentimento polarity\n",
    "# sentimento subjectivity\n",
    "# Key Verbs \n",
    "    #print(\">\" + text)\n",
    "    \n",
    "    \n",
    "    \n",
    "    #variables initialization\n",
    "    fix = 0\n",
    "    clear = 0 \n",
    "    enhance = 0\n",
    "    change =0\n",
    "    improve = 0\n",
    "    remove = 0\n",
    "    recommend = 0\n",
    "    like = 0\n",
    "    love = 0\n",
    "    enjoy = 0\n",
    "    \n",
    "    sentiment_polarity = 0\n",
    "    sentiment_subjectivity = 0\n",
    "    \n",
    "    text = text.replace('\\\"','').replace('.','')\n",
    "    blob = TextBlob(text.lower())\n",
    "    \n",
    "    \n",
    "    #Sentiment classification\n",
    "    try:\n",
    "        try:\n",
    "            blob = blob.translate(to='en')\n",
    "        except:\n",
    "            pass #do nothing  \n",
    "        \n",
    "        sentiment_polarity = blob.sentiment[0]\n",
    "        sentiment_subjectivity = blob.sentiment[1]        \n",
    "    except:        \n",
    "        sentiment_polarity = 999\n",
    "        sentiment_subjectivity = 999\n",
    "    \n",
    "    \n",
    "    #Key verbs analysis\n",
    "    try:\n",
    "        for word,pos in blob.tags:\n",
    "            if pos in ('VB'):#,'VBZ','VBP','VBD','VBN','VBG'):\n",
    "                lemma = word.lemmatize(\"v\")\n",
    "                if lemma == \"fix\": fix = 1 \n",
    "                if lemma == \"clear\": clear = 1\n",
    "                if lemma == \"enhance\": enhance = 1\n",
    "                if lemma == \"change:\": change = 1\n",
    "                if lemma == \"improve\": improve = 1\n",
    "                if lemma == \"remove\":  remove = 1\n",
    "                if lemma == \"recommend\": recommend = 1\n",
    "                if lemma == \"like\": like = 1\n",
    "                if lemma == \"love\": love = 1\n",
    "                if lemma == \"enjoy\": enjoy = 1\n",
    "\n",
    "    except:\n",
    "        pass #do nothing  \n",
    "        \n",
    "\n",
    "    #Return the results    \n",
    "    return sentiment_polarity,sentiment_subjectivity,fix,clear,enhance,change,improve,remove,recommend,like,love,enjoy \n",
    "    "
   ]
  },
  {
   "cell_type": "code",
   "execution_count": null,
   "metadata": {
    "collapsed": false
   },
   "outputs": [],
   "source": [
    "\n"
   ]
  },
  {
   "cell_type": "code",
   "execution_count": null,
   "metadata": {
    "collapsed": false
   },
   "outputs": [],
   "source": []
  },
  {
   "cell_type": "code",
   "execution_count": null,
   "metadata": {
    "collapsed": false
   },
   "outputs": [],
   "source": []
  },
  {
   "cell_type": "code",
   "execution_count": null,
   "metadata": {
    "collapsed": false
   },
   "outputs": [
    {
     "data": {
      "text/plain": [
       "34111"
      ]
     },
     "execution_count": 17,
     "metadata": {},
     "output_type": "execute_result"
    }
   ],
   "source": [
    "df.shape[0]"
   ]
  },
  {
   "cell_type": "code",
   "execution_count": null,
   "metadata": {
    "collapsed": false
   },
   "outputs": [],
   "source": [
    "#blob = TextBlob(df['reviews.title'][0])\n",
    "\n",
    "y=[]\n",
    "header = ['sentiment_polarity','sentiment_subjectivity','fix','clear','enhance','change','improve','remove','recommend','like','love','enjoy']\n",
    "df2 = (df['reviews.title']+ \" \"+ df['reviews.text']).apply(lambda x: SentimenAnalysis(str(x)))\n",
    "\n",
    "df2.shape[0]\n"
   ]
  },
  {
   "cell_type": "code",
   "execution_count": null,
   "metadata": {
    "collapsed": false
   },
   "outputs": [],
   "source": [
    "df2"
   ]
  },
  {
   "cell_type": "code",
   "execution_count": null,
   "metadata": {
    "collapsed": true
   },
   "outputs": [],
   "source": [
    "for i in df2:\n",
    "    y.append(i)\n",
    "    \n",
    "df2 = pd.DataFrame(y,columns = header)\n",
    "\n",
    "df3 = pd.concat([df,df2],axis=1)"
   ]
  },
  {
   "cell_type": "code",
   "execution_count": null,
   "metadata": {
    "collapsed": true
   },
   "outputs": [],
   "source": [
    "df3 = df3[df3['sentiment_polarity'].isnull() == False]\n",
    "df3 = df3[df3['reviews.rating'].isnull() == False]"
   ]
  },
  {
   "cell_type": "code",
   "execution_count": null,
   "metadata": {
    "collapsed": false
   },
   "outputs": [],
   "source": [
    "from sklearn import preprocessing\n",
    "\n",
    "def MinMaxScale(df,feature):\n",
    "    try:\n",
    "        scaler = preprocessing.MinMaxScaler()\n",
    "        df[feature] = scaler.fit_transform(df[[feature]])#.apply(lambda x: round(x,3)))\n",
    "    except:\n",
    "        print('Fail in Normalization '+ feature)  \n",
    "    return df\n",
    "\n",
    "df3 = pd.DataFrame(MinMaxScale(df3,'sentiment_polarity'))\n",
    "\n",
    "df3 = pd.DataFrame(MinMaxScale(df3,'reviews.rating'))\n",
    "\n",
    "\n"
   ]
  },
  {
   "cell_type": "code",
   "execution_count": null,
   "metadata": {
    "collapsed": false
   },
   "outputs": [],
   "source": [
    "df3['sentiment_polarity'].count()"
   ]
  },
  {
   "cell_type": "code",
   "execution_count": null,
   "metadata": {
    "collapsed": false
   },
   "outputs": [],
   "source": []
  },
  {
   "cell_type": "code",
   "execution_count": null,
   "metadata": {
    "collapsed": false
   },
   "outputs": [],
   "source": [
    "df3.to_csv('../data/HotelReview.csv', encoding='utf-8', sep='|',index=False)"
   ]
  },
  {
   "cell_type": "code",
   "execution_count": null,
   "metadata": {
    "collapsed": false
   },
   "outputs": [],
   "source": [
    "df3"
   ]
  },
  {
   "cell_type": "code",
   "execution_count": null,
   "metadata": {
    "collapsed": true
   },
   "outputs": [],
   "source": []
  }
 ],
 "metadata": {
  "kernelspec": {
   "display_name": "py35",
   "language": "python",
   "name": "py35"
  },
  "language_info": {
   "codemirror_mode": {
    "name": "ipython",
    "version": 3
   },
   "file_extension": ".py",
   "mimetype": "text/x-python",
   "name": "python",
   "nbconvert_exporter": "python",
   "pygments_lexer": "ipython3",
   "version": "3.5.4"
  }
 },
 "nbformat": 4,
 "nbformat_minor": 2
}
