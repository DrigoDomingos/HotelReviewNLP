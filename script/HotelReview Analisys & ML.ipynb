{
 "cells": [
  {
   "cell_type": "code",
   "execution_count": null,
   "metadata": {
    "collapsed": false
   },
   "outputs": [],
   "source": [
    "import pandas as pd\n",
    "from textblob import TextBlob"
   ]
  },
  {
   "cell_type": "code",
   "execution_count": null,
   "metadata": {
    "collapsed": false
   },
   "outputs": [],
   "source": [
    "df = pd.read_csv(\"../data/7282_1.csv\")   "
   ]
  },
  {
   "cell_type": "code",
   "execution_count": null,
   "metadata": {
    "collapsed": false
   },
   "outputs": [],
   "source": [
    "df.dtypes"
   ]
  },
  {
   "cell_type": "code",
   "execution_count": null,
   "metadata": {
    "collapsed": false
   },
   "outputs": [],
   "source": [
    "df['reviews.rating'].plot(kind='hist', bins=10)"
   ]
  },
  {
   "cell_type": "code",
   "execution_count": null,
   "metadata": {
    "collapsed": false
   },
   "outputs": [],
   "source": [
    "Review_freq = df['name'].value_counts()"
   ]
  },
  {
   "cell_type": "code",
   "execution_count": null,
   "metadata": {
    "collapsed": false
   },
   "outputs": [],
   "source": [
    "Review_freq[Review_freq >= 5]"
   ]
  },
  {
   "cell_type": "code",
   "execution_count": null,
   "metadata": {
    "collapsed": false
   },
   "outputs": [],
   "source": [
    "df = df[df['name'].isin(Review_freq[Review_freq >= 10].index)]"
   ]
  },
  {
   "cell_type": "code",
   "execution_count": null,
   "metadata": {
    "collapsed": false
   },
   "outputs": [],
   "source": [
    "df = df.head() # Sample of data to developement"
   ]
  },
  {
   "cell_type": "code",
   "execution_count": null,
   "metadata": {
    "collapsed": false
   },
   "outputs": [],
   "source": [
    "bad_verbs = ['fix','clean','enhance','change','improve','remove']\n",
    "good_verbs = ['recommend','like','love']\n",
    "\n",
    "def SentimenAnalysis(text):\n",
    "# Function that receive the text and return:\n",
    "# sentimento polarity\n",
    "# sentimento subjectivity\n",
    "# Key Verbs \n",
    "    \n",
    "    #variables initialization\n",
    "    fix = 0\n",
    "    clear = 0\n",
    "    sentiment_polarity = 0\n",
    "    sentiment_subjectivity = 0\n",
    "    blob = TextBlob(text.lower())\n",
    "    \n",
    "    \n",
    "    #Sentiment classification\n",
    "    try:\n",
    "        try:\n",
    "            blob = blob.translate(to='en')\n",
    "        except:\n",
    "            pass #do nothing  \n",
    "        \n",
    "        sentiment_polarity = blob.sentiment[0]\n",
    "        sentiment_subjectivity = blob.sentiment[1]        \n",
    "    except:        \n",
    "        sentiment_polarity = 999\n",
    "        sentiment_subjectivity = 999\n",
    "    \n",
    "    \n",
    "    #Key verbs analysis\n",
    "    try:\n",
    "        for word,pos in blob.tags:\n",
    "            if pos in ('VB','VBZ','VBP','VBD','VBN','VBG'):\n",
    "                lemma = word.lemmatize(\"v\")\n",
    "                if lemma = \"fix\": fix = 1\n",
    "                if lemma = \"clean\": fix = 1                \n",
    "    except:\n",
    "        pass #do nothing  \n",
    "        \n",
    "\n",
    "    #Return the results    \n",
    "    return sentiment_polarity, sentiment_subjectivity, fix, clean\n",
    "    "
   ]
  },
  {
   "cell_type": "code",
   "execution_count": null,
   "metadata": {
    "collapsed": false
   },
   "outputs": [],
   "source": [
    "#blob = TextBlob(df['reviews.title'][0])\n",
    "\n",
    "sentiment_polarity, sentiment_subjectivity, fix, clean = df['reviews.title'].apply(lambda x: SentimenAnalysis(str(x)))\n",
    "print(str(sentiment_polarity), str(sentiment_subjectivity), str(fix), str(clean)"
   ]
  },
  {
   "cell_type": "code",
   "execution_count": null,
   "metadata": {
    "collapsed": false
   },
   "outputs": [],
   "source": [
    "df['sentiment_polarity'] = sentiment_polarity\n",
    "df['sentiment_subjectivity'] = sentiment_subjectivity\n",
    "df['fix'] = fix\n",
    "df['clean'] = clean"
   ]
  },
  {
   "cell_type": "code",
   "execution_count": null,
   "metadata": {
    "collapsed": false
   },
   "outputs": [],
   "source": [
    "df.to_csv('HotelReview.csv', encoding='utf-8', index=False)"
   ]
  },
  {
   "cell_type": "code",
   "execution_count": null,
   "metadata": {
    "collapsed": false
   },
   "outputs": [],
   "source": []
  }
 ],
 "metadata": {
  "kernelspec": {
   "display_name": "Python 3",
   "language": "python",
   "name": "python3"
  },
  "language_info": {
   "codemirror_mode": {
    "name": "ipython",
    "version": 3
   },
   "file_extension": ".py",
   "mimetype": "text/x-python",
   "name": "python",
   "nbconvert_exporter": "python",
   "pygments_lexer": "ipython3",
   "version": "3.6.3"
  }
 },
 "nbformat": 4,
 "nbformat_minor": 2
}
